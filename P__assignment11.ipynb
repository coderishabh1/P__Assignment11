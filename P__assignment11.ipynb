{
 "cells": [
  {
   "cell_type": "code",
   "execution_count": null,
   "id": "86e9238c-b57e-47ca-addf-75a802a02b53",
   "metadata": {},
   "outputs": [],
   "source": [
    "##Ques1"
   ]
  },
  {
   "cell_type": "code",
   "execution_count": null,
   "id": "c88e78ea-c07a-4fa0-865c-84547ee653ba",
   "metadata": {},
   "outputs": [],
   "source": [
    "w = input()\n",
    "k=int(input())\n",
    "print (w)\n",
    "x=[i for i in w] \n",
    "print(x)\n",
    "if (len(x)>k):\n",
    "    print (\"world length is greater than k\")\n",
    "else:\n",
    "    print (\"world length is equal or shorter than k\")"
   ]
  },
  {
   "cell_type": "code",
   "execution_count": null,
   "id": "721aa624-cfc0-49d4-9708-76cd791139f7",
   "metadata": {},
   "outputs": [],
   "source": [
    "##Ques 2"
   ]
  },
  {
   "cell_type": "code",
   "execution_count": null,
   "id": "7b2da2c8-6e92-46db-83a3-b3c2f3c791b2",
   "metadata": {},
   "outputs": [],
   "source": [
    "mystr=input(\"enter the string: \")\n",
    "new_str = \" \"\n",
    "i = int(input())\n",
    "for k in range (len(mystr)):\n",
    "    if (k!=i):\n",
    "        new_str=new_str + mystr[k]\n",
    "print (new_str)"
   ]
  },
  {
   "cell_type": "code",
   "execution_count": null,
   "id": "ce2638dd-2f63-41b1-bd4d-f13304e8a153",
   "metadata": {},
   "outputs": [],
   "source": [
    "##Ques3"
   ]
  },
  {
   "cell_type": "code",
   "execution_count": null,
   "id": "ca79dd1e-252e-4302-aaa9-a0078feb1bfb",
   "metadata": {},
   "outputs": [],
   "source": [
    "mystr=input()\n",
    "new_str=mystr.split()\n",
    "l = len(new_str)\n",
    "new_str1=\"\"\n",
    "for i in range (l):\n",
    "    new_str1=new_str1+\" \"+new_str[i]\n",
    "print (new_str) #print the splited string \n",
    "print (new_str1) #print the  joining of string\n",
    "    "
   ]
  },
  {
   "cell_type": "code",
   "execution_count": null,
   "id": "eaa9533e-b933-450e-8a0e-c4da68589d18",
   "metadata": {},
   "outputs": [],
   "source": [
    "##Que4"
   ]
  },
  {
   "cell_type": "code",
   "execution_count": null,
   "id": "22fcd337-e28a-4c2a-b528-ca6f0882e37b",
   "metadata": {},
   "outputs": [],
   "source": [
    "mystr=input()\n",
    "new_str=x=[i for i in mystr] \n",
    "count = 0\n",
    "print (new_str)\n",
    "for i in range (len(new_str)):\n",
    "    if (int(new_str[i])==1 or int (new_str[i])==0):\n",
    "        count =count+1\n",
    "if (count ==len(new_str)):\n",
    "    print (\"string is binary string\")\n",
    "else:\n",
    "    print (\"strinf is not a binary string \")"
   ]
  },
  {
   "cell_type": "code",
   "execution_count": null,
   "id": "aa47740f-bf79-4130-b196-2cedf06a4fd4",
   "metadata": {},
   "outputs": [],
   "source": [
    "##Ques5"
   ]
  },
  {
   "cell_type": "code",
   "execution_count": null,
   "id": "280f7809-b103-48b2-8911-27849a8f9fea",
   "metadata": {},
   "outputs": [],
   "source": []
  },
  {
   "cell_type": "code",
   "execution_count": null,
   "id": "4b91e4ac-59ee-4920-937b-0e48babb4889",
   "metadata": {},
   "outputs": [],
   "source": []
  }
 ],
 "metadata": {
  "kernelspec": {
   "display_name": "Python 3 (ipykernel)",
   "language": "python",
   "name": "python3"
  },
  "language_info": {
   "codemirror_mode": {
    "name": "ipython",
    "version": 3
   },
   "file_extension": ".py",
   "mimetype": "text/x-python",
   "name": "python",
   "nbconvert_exporter": "python",
   "pygments_lexer": "ipython3",
   "version": "3.10.6"
  }
 },
 "nbformat": 4,
 "nbformat_minor": 5
}
